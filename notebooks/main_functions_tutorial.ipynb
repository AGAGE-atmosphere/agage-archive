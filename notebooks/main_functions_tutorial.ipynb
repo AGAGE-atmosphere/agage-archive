{
 "cells": [
  {
   "cell_type": "code",
   "execution_count": null,
   "metadata": {},
   "outputs": [],
   "source": [
    "from matplotlib import pyplot as plt"
   ]
  },
  {
   "attachments": {},
   "cell_type": "markdown",
   "metadata": {},
   "source": [
    "# Key functions used to process ALE/GAGE/AGAGE data\n",
    "\n",
    "**IMPORTANT:** This notebook is designed to demonstrate and test the main functions in this repository. It is **NOT** intended to be used to create the AGAGE data archive. To do that, please refer to the [workflow documentation](../docs/workflow.md).\n",
    "\n",
    "Before you run this tutorial, make sure you've run the setup script to create your config file."
   ]
  },
  {
   "cell_type": "code",
   "execution_count": null,
   "metadata": {},
   "outputs": [],
   "source": [
    "from agage_archive.io import read_nc, read_ale_gage, output_dataset, combine_datasets, read_baseline, combine_baseline\n",
    "from agage_archive.convert import monthly_baseline"
   ]
  },
  {
   "cell_type": "markdown",
   "metadata": {},
   "source": [
    "For this tutorial, we will use AGAGE test files in this repo by setting the network to ```agage_test```. If using with real data set this to the appropriate directory within the ```data``` folder."
   ]
  },
  {
   "cell_type": "code",
   "execution_count": null,
   "metadata": {},
   "outputs": [],
   "source": [
    "network = \"agage_test\""
   ]
  },
  {
   "attachments": {},
   "cell_type": "markdown",
   "metadata": {},
   "source": [
    "To read AGAGE netCDF files, use the read_agage function. E.g.:"
   ]
  },
  {
   "cell_type": "code",
   "execution_count": null,
   "metadata": {},
   "outputs": [],
   "source": [
    "ds_agage = read_nc(network, \"CH3CCl3\", \"CGO\", \"GCMS-Medusa\")\n",
    "ds_agage.mf.plot()"
   ]
  },
  {
   "cell_type": "code",
   "execution_count": null,
   "metadata": {},
   "outputs": [],
   "source": [
    "ds_agage"
   ]
  },
  {
   "attachments": {},
   "cell_type": "markdown",
   "metadata": {},
   "source": [
    "Similarly, ALE or GAGE data can be read using:"
   ]
  },
  {
   "cell_type": "code",
   "execution_count": null,
   "metadata": {},
   "outputs": [],
   "source": [
    "ds_gage = read_ale_gage(network, \"CH3CCl3\", \"CGO\", \"GAGE\")"
   ]
  },
  {
   "cell_type": "code",
   "execution_count": null,
   "metadata": {},
   "outputs": [],
   "source": [
    "ds_gage"
   ]
  },
  {
   "cell_type": "code",
   "execution_count": null,
   "metadata": {},
   "outputs": [],
   "source": [
    "ds_gage.mf.plot()"
   ]
  },
  {
   "attachments": {},
   "cell_type": "markdown",
   "metadata": {},
   "source": [
    "The ```combine_datasets``` function calls these functions, based on the order in which they are specified in ```data/<network>/data_selector.xlsx```.\n",
    "\n",
    "Here, we will create a CH3CCl3 timeseries from CGO ALE, GAGE, GCMD and Medusa data:"
   ]
  },
  {
   "cell_type": "code",
   "execution_count": null,
   "metadata": {},
   "outputs": [],
   "source": [
    "ds = combine_datasets(network, \"CH3CCl3\", \"CGO\", scale=\"SIO-05\", verbose=False)"
   ]
  },
  {
   "cell_type": "code",
   "execution_count": null,
   "metadata": {},
   "outputs": [],
   "source": [
    "ds"
   ]
  },
  {
   "cell_type": "code",
   "execution_count": null,
   "metadata": {},
   "outputs": [],
   "source": [
    "ds.mf.plot()"
   ]
  },
  {
   "attachments": {},
   "cell_type": "markdown",
   "metadata": {},
   "source": [
    "To output the file to the output directory, use the ```output_dataset``` function:"
   ]
  },
  {
   "cell_type": "code",
   "execution_count": null,
   "metadata": {},
   "outputs": [],
   "source": [
    "output_dataset(ds, network, instrument=\"combined\")"
   ]
  },
  {
   "attachments": {},
   "cell_type": "markdown",
   "metadata": {},
   "source": [
    "Now try a species that's only measured on the Medusa:"
   ]
  },
  {
   "cell_type": "code",
   "execution_count": null,
   "metadata": {},
   "outputs": [],
   "source": [
    "ds = combine_datasets(network, \"nf3\", \"MHD\", scale=None)"
   ]
  },
  {
   "cell_type": "code",
   "execution_count": null,
   "metadata": {},
   "outputs": [],
   "source": [
    "ds"
   ]
  },
  {
   "cell_type": "code",
   "execution_count": null,
   "metadata": {},
   "outputs": [],
   "source": [
    "output_dataset(ds, network, instrument=\"GCMS-Medusa\")"
   ]
  },
  {
   "cell_type": "markdown",
   "metadata": {},
   "source": [
    "## Extract baselines\n",
    "\n",
    "Firstly for MD data:"
   ]
  },
  {
   "cell_type": "code",
   "execution_count": null,
   "metadata": {},
   "outputs": [],
   "source": [
    "ds_baseline = read_baseline(network, \"CH3CCl3\", \"CGO\", \"GCMD\", verbose=False)\n",
    "ds_agage_md = read_nc(network, \"CH3CCl3\", \"CGO\", \"GCMD\", verbose=False)\n",
    "\n",
    "baseline_points = ds_baseline.baseline == 1\n",
    "plt.plot(ds_agage_md.time, ds_agage_md.mf, \".\", label = \"All data\")\n",
    "plt.plot(ds_agage_md.time[baseline_points], ds_agage_md.mf[baseline_points], \"o\", label = \"Baseline\")\n",
    "plt.ylabel(\"CH3CCl3 mole fraction (ppt)\")\n",
    "plt.legend()"
   ]
  },
  {
   "cell_type": "markdown",
   "metadata": {},
   "source": [
    "Now for combined file:"
   ]
  },
  {
   "cell_type": "code",
   "execution_count": null,
   "metadata": {},
   "outputs": [],
   "source": [
    "ds_baseline_combined = combine_baseline(network, \"CH3CCl3\", \"CGO\", verbose=False)\n",
    "ds_combined = combine_datasets(network, \"CH3CCl3\", \"CGO\", verbose=False)\n",
    "\n",
    "baseline_points = ds_baseline_combined.baseline == 1\n",
    "plt.plot(ds_combined.time, ds_combined.mf, \".\", label = \"All data\")\n",
    "plt.plot(ds_combined.time[baseline_points], ds_combined.mf[baseline_points], \"o\", label = \"Baseline\")\n",
    "plt.ylabel(\"CH3CCl3 mole fraction (ppt)\")\n",
    "plt.legend()"
   ]
  },
  {
   "cell_type": "markdown",
   "metadata": {},
   "source": [
    "# Monthly mean baselines"
   ]
  },
  {
   "cell_type": "code",
   "execution_count": null,
   "metadata": {},
   "outputs": [],
   "source": [
    "ds_monthly = monthly_baseline(ds_combined, ds_baseline_combined)"
   ]
  },
  {
   "cell_type": "code",
   "execution_count": null,
   "metadata": {},
   "outputs": [],
   "source": [
    "ds_monthly"
   ]
  },
  {
   "cell_type": "code",
   "execution_count": null,
   "metadata": {},
   "outputs": [],
   "source": [
    "ds_combined.mf.plot()\n",
    "ds_monthly.mf.plot()"
   ]
  },
  {
   "cell_type": "markdown",
   "metadata": {},
   "source": []
  }
 ],
 "metadata": {
  "kernelspec": {
   "display_name": "openghg_env",
   "language": "python",
   "name": "python3"
  },
  "language_info": {
   "codemirror_mode": {
    "name": "ipython",
    "version": 3
   },
   "file_extension": ".py",
   "mimetype": "text/x-python",
   "name": "python",
   "nbconvert_exporter": "python",
   "pygments_lexer": "ipython3",
   "version": "3.12.1"
  },
  "orig_nbformat": 4
 },
 "nbformat": 4,
 "nbformat_minor": 2
}
