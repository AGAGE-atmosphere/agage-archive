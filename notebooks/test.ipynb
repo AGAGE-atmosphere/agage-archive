{
 "cells": [
  {
   "cell_type": "code",
   "execution_count": 60,
   "metadata": {},
   "outputs": [],
   "source": [
    "from agage_archive.io import read_nc, read_ale_gage"
   ]
  },
  {
   "cell_type": "code",
   "execution_count": 81,
   "metadata": {},
   "outputs": [
    {
     "name": "stdout",
     "output_type": "stream",
     "text": [
      "... opening /Users/chxmr/code/agage-archive/data/agage_test/data-nc/AGAGE-GCMD_CGO_ch3ccl3.nc\n"
     ]
    }
   ],
   "source": [
    "ds = read_nc(\"agage_test\", \"ch3ccl3\", \"CGO\", \"GCMD\")"
   ]
  },
  {
   "cell_type": "code",
   "execution_count": 78,
   "metadata": {},
   "outputs": [
    {
     "name": "stdout",
     "output_type": "stream",
     "text": [
      "... opening /Users/chxmr/code/agage-archive/data/agage_test/ale/tasmania_sio1993.gtar.gz\n",
      "... Timestamp issue at 12-SEP-78 0360 replacing with 12-SEP-78 0400\n",
      "... Timestamp issue at 07-FEB-81 2512 replacing with 08-FEB-81 0112\n",
      "... Timestamp issue at 30-JAN-83 0852 replacing with 30-JAN-83 1852\n",
      "... Timestamp issue at 19-OCT-83 2618 replacing with 19-OCT-83 2018\n"
     ]
    }
   ],
   "source": [
    "ds = read_ale_gage(\"agage_test\", \"ch3ccl3\", \"CGO\", \"ALE\")"
   ]
  },
  {
   "cell_type": "code",
   "execution_count": null,
   "metadata": {},
   "outputs": [],
   "source": []
  }
 ],
 "metadata": {
  "kernelspec": {
   "display_name": "openghg_env",
   "language": "python",
   "name": "python3"
  },
  "language_info": {
   "codemirror_mode": {
    "name": "ipython",
    "version": 3
   },
   "file_extension": ".py",
   "mimetype": "text/x-python",
   "name": "python",
   "nbconvert_exporter": "python",
   "pygments_lexer": "ipython3",
   "version": "3.10.10"
  },
  "orig_nbformat": 4
 },
 "nbformat": 4,
 "nbformat_minor": 2
}
