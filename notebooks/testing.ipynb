{
 "cells": [
  {
   "cell_type": "code",
   "execution_count": 2,
   "metadata": {},
   "outputs": [],
   "source": [
    "import pandas as pd\n",
    "\n",
    "from agage_archive import Paths\n",
    "from agage_archive.io import combine_datasets, read_agage, read_ale_gage, output_dataset\n",
    "from agage_archive.run import run_individual_instrument, run_combined_instruments\n",
    "\n",
    "path = Paths()"
   ]
  },
  {
   "cell_type": "code",
   "execution_count": 24,
   "metadata": {},
   "outputs": [],
   "source": [
    "run_individual_instrument(\"GAGE\")"
   ]
  },
  {
   "cell_type": "code",
   "execution_count": 12,
   "metadata": {},
   "outputs": [
    {
     "name": "stdout",
     "output_type": "stream",
     "text": [
      "Processing files for CGO\n",
      "... combining datasets for ch4 at CGO\n",
      "... reading /Users/chxmr/data/agage-nc/data-nc/AGAGE-Picarro-1_CGO_ch4.nc\n",
      "... opening /Users/chxmr/code/agage-archive/data/ale_gage_sio1993/gage/tasmania_sio1993.gtar.gz\n",
      "... reading /Users/chxmr/data/agage-nc/data-nc/AGAGE-GCMD_CGO_ch4.nc\n",
      "... outputting combined dataset for ch4 at CGO\n",
      "... writing /Users/chxmr/data/agage-nc/combined/AGAGE-combined_CGO_ch4.nc\n",
      "... combining datasets for ch3ccl3 at CGO\n",
      "... opening /Users/chxmr/code/agage-archive/data/ale_gage_sio1993/gage/tasmania_sio1993.gtar.gz\n",
      "... reading /Users/chxmr/data/agage-nc/data-gcms-nc/AGAGE-GCMS-Medusa_CGO_ch3ccl3.nc\n",
      "... opening /Users/chxmr/code/agage-archive/data/ale_gage_sio1993/ale/tasmania_sio1993.gtar.gz\n",
      "... reading /Users/chxmr/data/agage-nc/data-nc/AGAGE-GCMD_CGO_ch3ccl3.nc\n",
      "... outputting combined dataset for ch3ccl3 at CGO\n",
      "... writing /Users/chxmr/data/agage-nc/combined/AGAGE-combined_CGO_ch3ccl3.nc\n",
      "... combining datasets for cfc-11 at CGO\n",
      "... opening /Users/chxmr/code/agage-archive/data/ale_gage_sio1993/gage/tasmania_sio1993.gtar.gz\n",
      "... opening /Users/chxmr/code/agage-archive/data/ale_gage_sio1993/ale/tasmania_sio1993.gtar.gz\n",
      "... reading /Users/chxmr/data/agage-nc/data-nc/AGAGE-GCMD_CGO_cfc-11.nc\n",
      "... outputting combined dataset for cfc-11 at CGO\n",
      "... writing /Users/chxmr/data/agage-nc/combined/AGAGE-combined_CGO_cfc-11.nc\n"
     ]
    }
   ],
   "source": [
    "run_combined_instruments(verbose=True)"
   ]
  },
  {
   "cell_type": "code",
   "execution_count": null,
   "metadata": {},
   "outputs": [],
   "source": []
  }
 ],
 "metadata": {
  "kernelspec": {
   "display_name": "openghg_env",
   "language": "python",
   "name": "python3"
  },
  "language_info": {
   "codemirror_mode": {
    "name": "ipython",
    "version": 3
   },
   "file_extension": ".py",
   "mimetype": "text/x-python",
   "name": "python",
   "nbconvert_exporter": "python",
   "pygments_lexer": "ipython3",
   "version": "3.10.10"
  },
  "orig_nbformat": 4
 },
 "nbformat": 4,
 "nbformat_minor": 2
}
