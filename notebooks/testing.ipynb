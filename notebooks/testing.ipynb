{
 "cells": [
  {
   "cell_type": "code",
   "execution_count": 1,
   "metadata": {},
   "outputs": [],
   "source": [
    "import pandas as pd\n",
    "\n",
    "from agage_archive import Paths\n",
    "from agage_archive.io import combine_datasets, read_agage, read_ale_gage, output_dataset\n",
    "from agage_archive.run import run_individual_instrument, run_combined_instruments\n",
    "\n",
    "path = Paths()"
   ]
  },
  {
   "cell_type": "code",
   "execution_count": 24,
   "metadata": {},
   "outputs": [],
   "source": [
    "run_individual_instrument(\"GAGE\")"
   ]
  },
  {
   "cell_type": "code",
   "execution_count": 3,
   "metadata": {},
   "outputs": [
    {
     "ename": "IndexError",
     "evalue": "index 0 is out of bounds for axis 0 with size 0",
     "output_type": "error",
     "traceback": [
      "\u001b[0;31m---------------------------------------------------------------------------\u001b[0m",
      "\u001b[0;31mIndexError\u001b[0m                                Traceback (most recent call last)",
      "Cell \u001b[0;32mIn[3], line 1\u001b[0m\n\u001b[0;32m----> 1\u001b[0m run_combined_instruments()\n",
      "File \u001b[0;32m~/code/agage-archive/agage_archive/run.py:54\u001b[0m, in \u001b[0;36mrun_combined_instruments\u001b[0;34m(network)\u001b[0m\n\u001b[1;32m     50\u001b[0m \u001b[39m# Loop through species in index\u001b[39;00m\n\u001b[1;32m     51\u001b[0m \u001b[39mfor\u001b[39;00m species \u001b[39min\u001b[39;00m df\u001b[39m.\u001b[39mindex:\n\u001b[1;32m     52\u001b[0m \n\u001b[1;32m     53\u001b[0m     \u001b[39m# Produce combined dataset\u001b[39;00m\n\u001b[0;32m---> 54\u001b[0m     ds \u001b[39m=\u001b[39m combine_datasets(species, site)\n\u001b[1;32m     56\u001b[0m     output_dataset(ds, network, instrument\u001b[39m=\u001b[39m\u001b[39m\"\u001b[39m\u001b[39mcombined\u001b[39m\u001b[39m\"\u001b[39m)\n",
      "File \u001b[0;32m~/code/agage-archive/agage_archive/io.py:325\u001b[0m, in \u001b[0;36mcombine_datasets\u001b[0;34m(species, site, scale, testing_path)\u001b[0m\n\u001b[1;32m    322\u001b[0m \u001b[39m# Subset date\u001b[39;00m\n\u001b[1;32m    323\u001b[0m ds \u001b[39m=\u001b[39m ds\u001b[39m.\u001b[39msel(time\u001b[39m=\u001b[39m\u001b[39mslice\u001b[39m(\u001b[39m*\u001b[39mdate))\n\u001b[0;32m--> 325\u001b[0m dates_rec\u001b[39m.\u001b[39mappend(ds\u001b[39m.\u001b[39;49mtime[\u001b[39m0\u001b[39;49m]\u001b[39m.\u001b[39mdt\u001b[39m.\u001b[39mstrftime(\u001b[39m\"\u001b[39m\u001b[39m%\u001b[39m\u001b[39mY-\u001b[39m\u001b[39m%\u001b[39m\u001b[39mm-\u001b[39m\u001b[39m%d\u001b[39;00m\u001b[39m\"\u001b[39m)\u001b[39m.\u001b[39mvalues)\n\u001b[1;32m    327\u001b[0m \u001b[39m# Convert scale\u001b[39;00m\n\u001b[1;32m    328\u001b[0m \u001b[39mif\u001b[39;00m scale \u001b[39m!=\u001b[39m \u001b[39mNone\u001b[39;00m:\n",
      "File \u001b[0;32m~/opt/miniconda3/envs/openghg_env/lib/python3.10/site-packages/xarray/core/dataarray.py:816\u001b[0m, in \u001b[0;36mDataArray.__getitem__\u001b[0;34m(self, key)\u001b[0m\n\u001b[1;32m    813\u001b[0m     \u001b[39mreturn\u001b[39;00m \u001b[39mself\u001b[39m\u001b[39m.\u001b[39m_getitem_coord(key)\n\u001b[1;32m    814\u001b[0m \u001b[39melse\u001b[39;00m:\n\u001b[1;32m    815\u001b[0m     \u001b[39m# xarray-style array indexing\u001b[39;00m\n\u001b[0;32m--> 816\u001b[0m     \u001b[39mreturn\u001b[39;00m \u001b[39mself\u001b[39;49m\u001b[39m.\u001b[39;49misel(indexers\u001b[39m=\u001b[39;49m\u001b[39mself\u001b[39;49m\u001b[39m.\u001b[39;49m_item_key_to_dict(key))\n",
      "File \u001b[0;32m~/opt/miniconda3/envs/openghg_env/lib/python3.10/site-packages/xarray/core/dataarray.py:1395\u001b[0m, in \u001b[0;36mDataArray.isel\u001b[0;34m(self, indexers, drop, missing_dims, **indexers_kwargs)\u001b[0m\n\u001b[1;32m   1390\u001b[0m     \u001b[39mreturn\u001b[39;00m \u001b[39mself\u001b[39m\u001b[39m.\u001b[39m_from_temp_dataset(ds)\n\u001b[1;32m   1392\u001b[0m \u001b[39m# Much faster algorithm for when all indexers are ints, slices, one-dimensional\u001b[39;00m\n\u001b[1;32m   1393\u001b[0m \u001b[39m# lists, or zero or one-dimensional np.ndarray's\u001b[39;00m\n\u001b[0;32m-> 1395\u001b[0m variable \u001b[39m=\u001b[39m \u001b[39mself\u001b[39;49m\u001b[39m.\u001b[39;49m_variable\u001b[39m.\u001b[39;49misel(indexers, missing_dims\u001b[39m=\u001b[39;49mmissing_dims)\n\u001b[1;32m   1396\u001b[0m indexes, index_variables \u001b[39m=\u001b[39m isel_indexes(\u001b[39mself\u001b[39m\u001b[39m.\u001b[39mxindexes, indexers)\n\u001b[1;32m   1398\u001b[0m coords \u001b[39m=\u001b[39m {}\n",
      "File \u001b[0;32m~/opt/miniconda3/envs/openghg_env/lib/python3.10/site-packages/xarray/core/variable.py:1328\u001b[0m, in \u001b[0;36mVariable.isel\u001b[0;34m(self, indexers, missing_dims, **indexers_kwargs)\u001b[0m\n\u001b[1;32m   1325\u001b[0m indexers \u001b[39m=\u001b[39m drop_dims_from_indexers(indexers, \u001b[39mself\u001b[39m\u001b[39m.\u001b[39mdims, missing_dims)\n\u001b[1;32m   1327\u001b[0m key \u001b[39m=\u001b[39m \u001b[39mtuple\u001b[39m(indexers\u001b[39m.\u001b[39mget(dim, \u001b[39mslice\u001b[39m(\u001b[39mNone\u001b[39;00m)) \u001b[39mfor\u001b[39;00m dim \u001b[39min\u001b[39;00m \u001b[39mself\u001b[39m\u001b[39m.\u001b[39mdims)\n\u001b[0;32m-> 1328\u001b[0m \u001b[39mreturn\u001b[39;00m \u001b[39mself\u001b[39;49m[key]\n",
      "File \u001b[0;32m~/opt/miniconda3/envs/openghg_env/lib/python3.10/site-packages/xarray/core/variable.py:876\u001b[0m, in \u001b[0;36mVariable.__getitem__\u001b[0;34m(self, key)\u001b[0m\n\u001b[1;32m    863\u001b[0m \u001b[39m\u001b[39m\u001b[39m\"\"\"Return a new Variable object whose contents are consistent with\u001b[39;00m\n\u001b[1;32m    864\u001b[0m \u001b[39mgetting the provided key from the underlying data.\u001b[39;00m\n\u001b[1;32m    865\u001b[0m \n\u001b[0;32m   (...)\u001b[0m\n\u001b[1;32m    873\u001b[0m \u001b[39marray `x.values` directly.\u001b[39;00m\n\u001b[1;32m    874\u001b[0m \u001b[39m\"\"\"\u001b[39;00m\n\u001b[1;32m    875\u001b[0m dims, indexer, new_order \u001b[39m=\u001b[39m \u001b[39mself\u001b[39m\u001b[39m.\u001b[39m_broadcast_indexes(key)\n\u001b[0;32m--> 876\u001b[0m data \u001b[39m=\u001b[39m as_indexable(\u001b[39mself\u001b[39;49m\u001b[39m.\u001b[39;49m_data)[indexer]\n\u001b[1;32m    877\u001b[0m \u001b[39mif\u001b[39;00m new_order:\n\u001b[1;32m    878\u001b[0m     data \u001b[39m=\u001b[39m np\u001b[39m.\u001b[39mmoveaxis(data, \u001b[39mrange\u001b[39m(\u001b[39mlen\u001b[39m(new_order)), new_order)\n",
      "File \u001b[0;32m~/opt/miniconda3/envs/openghg_env/lib/python3.10/site-packages/xarray/core/indexing.py:1482\u001b[0m, in \u001b[0;36mPandasIndexingAdapter.__getitem__\u001b[0;34m(self, indexer)\u001b[0m\n\u001b[1;32m   1479\u001b[0m \u001b[39mif\u001b[39;00m \u001b[39mgetattr\u001b[39m(key, \u001b[39m\"\u001b[39m\u001b[39mndim\u001b[39m\u001b[39m\"\u001b[39m, \u001b[39m0\u001b[39m) \u001b[39m>\u001b[39m \u001b[39m1\u001b[39m:  \u001b[39m# Return np-array if multidimensional\u001b[39;00m\n\u001b[1;32m   1480\u001b[0m     \u001b[39mreturn\u001b[39;00m NumpyIndexingAdapter(np\u001b[39m.\u001b[39masarray(\u001b[39mself\u001b[39m))[indexer]\n\u001b[0;32m-> 1482\u001b[0m result \u001b[39m=\u001b[39m \u001b[39mself\u001b[39;49m\u001b[39m.\u001b[39;49marray[key]\n\u001b[1;32m   1484\u001b[0m \u001b[39mif\u001b[39;00m \u001b[39misinstance\u001b[39m(result, pd\u001b[39m.\u001b[39mIndex):\n\u001b[1;32m   1485\u001b[0m     \u001b[39mreturn\u001b[39;00m \u001b[39mtype\u001b[39m(\u001b[39mself\u001b[39m)(result, dtype\u001b[39m=\u001b[39m\u001b[39mself\u001b[39m\u001b[39m.\u001b[39mdtype)\n",
      "File \u001b[0;32m~/opt/miniconda3/envs/openghg_env/lib/python3.10/site-packages/pandas/core/indexes/base.py:5320\u001b[0m, in \u001b[0;36mIndex.__getitem__\u001b[0;34m(self, key)\u001b[0m\n\u001b[1;32m   5317\u001b[0m \u001b[39mif\u001b[39;00m is_integer(key) \u001b[39mor\u001b[39;00m is_float(key):\n\u001b[1;32m   5318\u001b[0m     \u001b[39m# GH#44051 exclude bool, which would return a 2d ndarray\u001b[39;00m\n\u001b[1;32m   5319\u001b[0m     key \u001b[39m=\u001b[39m com\u001b[39m.\u001b[39mcast_scalar_indexer(key, warn_float\u001b[39m=\u001b[39m\u001b[39mTrue\u001b[39;00m)\n\u001b[0;32m-> 5320\u001b[0m     \u001b[39mreturn\u001b[39;00m getitem(key)\n\u001b[1;32m   5322\u001b[0m \u001b[39mif\u001b[39;00m \u001b[39misinstance\u001b[39m(key, \u001b[39mslice\u001b[39m):\n\u001b[1;32m   5323\u001b[0m     \u001b[39m# This case is separated from the conditional above to avoid\u001b[39;00m\n\u001b[1;32m   5324\u001b[0m     \u001b[39m# pessimization com.is_bool_indexer and ndim checks.\u001b[39;00m\n\u001b[1;32m   5325\u001b[0m     result \u001b[39m=\u001b[39m getitem(key)\n",
      "File \u001b[0;32m~/opt/miniconda3/envs/openghg_env/lib/python3.10/site-packages/pandas/core/arrays/datetimelike.py:358\u001b[0m, in \u001b[0;36mDatetimeLikeArrayMixin.__getitem__\u001b[0;34m(self, key)\u001b[0m\n\u001b[1;32m    350\u001b[0m \u001b[39m\u001b[39m\u001b[39m\"\"\"\u001b[39;00m\n\u001b[1;32m    351\u001b[0m \u001b[39mThis getitem defers to the underlying array, which by-definition can\u001b[39;00m\n\u001b[1;32m    352\u001b[0m \u001b[39monly handle list-likes, slices, and integer scalars\u001b[39;00m\n\u001b[1;32m    353\u001b[0m \u001b[39m\"\"\"\u001b[39;00m\n\u001b[1;32m    354\u001b[0m \u001b[39m# Use cast as we know we will get back a DatetimeLikeArray or DTScalar,\u001b[39;00m\n\u001b[1;32m    355\u001b[0m \u001b[39m# but skip evaluating the Union at runtime for performance\u001b[39;00m\n\u001b[1;32m    356\u001b[0m \u001b[39m# (see https://github.com/pandas-dev/pandas/pull/44624)\u001b[39;00m\n\u001b[1;32m    357\u001b[0m result \u001b[39m=\u001b[39m cast(\n\u001b[0;32m--> 358\u001b[0m     \u001b[39m\"\u001b[39m\u001b[39mUnion[DatetimeLikeArrayT, DTScalarOrNaT]\u001b[39m\u001b[39m\"\u001b[39m, \u001b[39msuper\u001b[39;49m()\u001b[39m.\u001b[39;49m\u001b[39m__getitem__\u001b[39;49m(key)\n\u001b[1;32m    359\u001b[0m )\n\u001b[1;32m    360\u001b[0m \u001b[39mif\u001b[39;00m lib\u001b[39m.\u001b[39mis_scalar(result):\n\u001b[1;32m    361\u001b[0m     \u001b[39mreturn\u001b[39;00m result\n",
      "File \u001b[0;32m~/opt/miniconda3/envs/openghg_env/lib/python3.10/site-packages/pandas/core/arrays/_mixins.py:289\u001b[0m, in \u001b[0;36mNDArrayBackedExtensionArray.__getitem__\u001b[0;34m(self, key)\u001b[0m\n\u001b[1;32m    283\u001b[0m \u001b[39mdef\u001b[39;00m \u001b[39m__getitem__\u001b[39m(\n\u001b[1;32m    284\u001b[0m     \u001b[39mself\u001b[39m: NDArrayBackedExtensionArrayT,\n\u001b[1;32m    285\u001b[0m     key: PositionalIndexer2D,\n\u001b[1;32m    286\u001b[0m ) \u001b[39m-\u001b[39m\u001b[39m>\u001b[39m NDArrayBackedExtensionArrayT \u001b[39m|\u001b[39m Any:\n\u001b[1;32m    287\u001b[0m     \u001b[39mif\u001b[39;00m lib\u001b[39m.\u001b[39mis_integer(key):\n\u001b[1;32m    288\u001b[0m         \u001b[39m# fast-path\u001b[39;00m\n\u001b[0;32m--> 289\u001b[0m         result \u001b[39m=\u001b[39m \u001b[39mself\u001b[39;49m\u001b[39m.\u001b[39;49m_ndarray[key]\n\u001b[1;32m    290\u001b[0m         \u001b[39mif\u001b[39;00m \u001b[39mself\u001b[39m\u001b[39m.\u001b[39mndim \u001b[39m==\u001b[39m \u001b[39m1\u001b[39m:\n\u001b[1;32m    291\u001b[0m             \u001b[39mreturn\u001b[39;00m \u001b[39mself\u001b[39m\u001b[39m.\u001b[39m_box_func(result)\n",
      "\u001b[0;31mIndexError\u001b[0m: index 0 is out of bounds for axis 0 with size 0"
     ]
    }
   ],
   "source": [
    "run_combined_instruments()"
   ]
  },
  {
   "cell_type": "code",
   "execution_count": null,
   "metadata": {},
   "outputs": [],
   "source": []
  }
 ],
 "metadata": {
  "kernelspec": {
   "display_name": "openghg_env",
   "language": "python",
   "name": "python3"
  },
  "language_info": {
   "codemirror_mode": {
    "name": "ipython",
    "version": 3
   },
   "file_extension": ".py",
   "mimetype": "text/x-python",
   "name": "python",
   "nbconvert_exporter": "python",
   "pygments_lexer": "ipython3",
   "version": "3.10.10"
  },
  "orig_nbformat": 4
 },
 "nbformat": 4,
 "nbformat_minor": 2
}
