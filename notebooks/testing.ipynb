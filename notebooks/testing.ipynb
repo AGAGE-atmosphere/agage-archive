{
 "cells": [
  {
   "cell_type": "code",
   "execution_count": 2,
   "metadata": {},
   "outputs": [],
   "source": [
    "import pandas as pd\n",
    "\n",
    "from agage_archive import Paths\n",
    "from agage_archive.io import combine_datasets, read_agage, read_ale_gage, output_dataset\n",
    "from agage_archive.run import read_release_schedule, run_instrument\n",
    "\n",
    "path = Paths()"
   ]
  },
  {
   "cell_type": "code",
   "execution_count": 7,
   "metadata": {},
   "outputs": [
    {
     "ename": "KeyError",
     "evalue": "'cfc-11'",
     "output_type": "error",
     "traceback": [
      "\u001b[0;31m---------------------------------------------------------------------------\u001b[0m",
      "\u001b[0;31mKeyError\u001b[0m                                  Traceback (most recent call last)",
      "Cell \u001b[0;32mIn[7], line 1\u001b[0m\n\u001b[0;32m----> 1\u001b[0m run_instrument(\u001b[39m\"\u001b[39;49m\u001b[39mALE\u001b[39;49m\u001b[39m\"\u001b[39;49m)\n",
      "File \u001b[0;32m~/code/agage-archive/agage_archive/run.py:47\u001b[0m, in \u001b[0;36mrun_instrument\u001b[0;34m(instrument)\u001b[0m\n\u001b[1;32m     45\u001b[0m \u001b[39mif\u001b[39;00m rs\u001b[39m.\u001b[39mloc[species, site] \u001b[39m!=\u001b[39m \u001b[39m\"\u001b[39m\u001b[39mx\u001b[39m\u001b[39m\"\u001b[39m:\n\u001b[1;32m     46\u001b[0m     \u001b[39mif\u001b[39;00m instrument \u001b[39m==\u001b[39m \u001b[39m\"\u001b[39m\u001b[39mALE\u001b[39m\u001b[39m\"\u001b[39m \u001b[39mor\u001b[39;00m instrument \u001b[39m==\u001b[39m \u001b[39m\"\u001b[39m\u001b[39mGAGE\u001b[39m\u001b[39m\"\u001b[39m:\n\u001b[0;32m---> 47\u001b[0m         ds \u001b[39m=\u001b[39m read_function(species, site, instrument)\n\u001b[1;32m     48\u001b[0m     \u001b[39melse\u001b[39;00m:\n\u001b[1;32m     49\u001b[0m         ds \u001b[39m=\u001b[39m read_function(species, site, instrument)\n",
      "File \u001b[0;32m~/code/agage-archive/agage_archive/io.py:130\u001b[0m, in \u001b[0;36mread_ale_gage\u001b[0;34m(species, site, network, testing_path)\u001b[0m\n\u001b[1;32m    128\u001b[0m \u001b[39m# Get species info\u001b[39;00m\n\u001b[1;32m    129\u001b[0m \u001b[39mwith\u001b[39;00m \u001b[39mopen\u001b[39m(paths\u001b[39m.\u001b[39mroot \u001b[39m/\u001b[39m \u001b[39m\"\u001b[39m\u001b[39mdata/ale_gage_species.json\u001b[39m\u001b[39m\"\u001b[39m) \u001b[39mas\u001b[39;00m f:\n\u001b[0;32m--> 130\u001b[0m     species_info \u001b[39m=\u001b[39m json\u001b[39m.\u001b[39;49mload(f)[species]\n\u001b[1;32m    132\u001b[0m \u001b[39m# For now, hardwire path\u001b[39;00m\n\u001b[1;32m    133\u001b[0m folder \u001b[39m=\u001b[39m paths\u001b[39m.\u001b[39m\u001b[39m__getattribute__\u001b[39m(network\u001b[39m.\u001b[39mlower())\n",
      "\u001b[0;31mKeyError\u001b[0m: 'cfc-11'"
     ]
    }
   ],
   "source": [
    "run_instrument(\"ALE\")"
   ]
  },
  {
   "cell_type": "code",
   "execution_count": null,
   "metadata": {},
   "outputs": [],
   "source": []
  }
 ],
 "metadata": {
  "kernelspec": {
   "display_name": "openghg_env",
   "language": "python",
   "name": "python3"
  },
  "language_info": {
   "codemirror_mode": {
    "name": "ipython",
    "version": 3
   },
   "file_extension": ".py",
   "mimetype": "text/x-python",
   "name": "python",
   "nbconvert_exporter": "python",
   "pygments_lexer": "ipython3",
   "version": "3.10.10"
  },
  "orig_nbformat": 4
 },
 "nbformat": 4,
 "nbformat_minor": 2
}
