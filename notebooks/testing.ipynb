{
 "cells": [
  {
   "cell_type": "code",
   "execution_count": 32,
   "metadata": {},
   "outputs": [],
   "source": [
    "import pandas as pd\n",
    "\n",
    "from agage_archive import Paths\n",
    "from agage_archive.io import combine_datasets, read_agage, read_ale_gage, output_dataset\n",
    "\n",
    "path = Paths()"
   ]
  },
  {
   "cell_type": "code",
   "execution_count": 43,
   "metadata": {},
   "outputs": [],
   "source": [
    "instrument = \"GCMD\"\n",
    "\n",
    "with open(path.root / \"data/data_selection/data_release_schedule.xlsx\", \"+rb\") as f:\n",
    "    df_all = pd.read_excel(f, sheet_name=instrument)\n",
    "\n",
    "    # Get index of row that contains \"General release date\"\n",
    "    idx = df_all[df_all.iloc[:, 0] == \"General release date\"].index[0]\n",
    "    general_end_date = df_all.iloc[idx, 1]\n",
    "\n",
    "    df = pd.read_excel(f, sheet_name=\"GCMD\", skiprows=idx+2)\n",
    "\n",
    "# Remove whitespace\n",
    "df = df.applymap(lambda x: x.strip() if isinstance(x, str) else x)\n",
    "\n",
    "# If NaN in df, replace with general end date\n",
    "df = df.fillna(general_end_date)\n",
    "\n",
    "df.set_index(\"Species\", inplace=True)"
   ]
  },
  {
   "cell_type": "code",
   "execution_count": 44,
   "metadata": {},
   "outputs": [],
   "source": [
    "# Process for all species and sites\n",
    "for species in df.index:\n",
    "    for site in df.columns:\n",
    "        if df.loc[species, site] != \"x\":\n",
    "            ds = read_agage(species, site, instrument)\n",
    "            output_dataset(ds, \"AGAGE\", instrument=\"GCMD\", end_date=df.loc[species, site])"
   ]
  },
  {
   "cell_type": "code",
   "execution_count": null,
   "metadata": {},
   "outputs": [],
   "source": []
  }
 ],
 "metadata": {
  "kernelspec": {
   "display_name": "openghg_env",
   "language": "python",
   "name": "python3"
  },
  "language_info": {
   "codemirror_mode": {
    "name": "ipython",
    "version": 3
   },
   "file_extension": ".py",
   "mimetype": "text/x-python",
   "name": "python",
   "nbconvert_exporter": "python",
   "pygments_lexer": "ipython3",
   "version": "3.10.10"
  },
  "orig_nbformat": 4
 },
 "nbformat": 4,
 "nbformat_minor": 2
}
