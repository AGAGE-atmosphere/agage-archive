{
 "cells": [
  {
   "cell_type": "code",
   "execution_count": null,
   "metadata": {},
   "outputs": [],
   "source": [
    "import ipywidgets as widgets\n",
    "from IPython.display import display\n",
    "\n",
    "from agage_archive import Paths\n",
    "from agage_archive.widgets import update_network_site, plot_to_output\n",
    "\n",
    "paths = Paths()"
   ]
  },
  {
   "cell_type": "markdown",
   "metadata": {},
   "source": [
    "# Find available files and plot\n",
    "\n",
    "Execute the following cell and then select options from the menus that appear."
   ]
  },
  {
   "cell_type": "code",
   "execution_count": null,
   "metadata": {},
   "outputs": [],
   "source": [
    "# Species names from the output directory structure\n",
    "species = sorted([f.name for f in paths.output.iterdir() if f.is_dir()])\n",
    "\n",
    "# Create dropdown widget\n",
    "species_dropdown = widgets.Dropdown(\n",
    "    options=species,\n",
    "    description='Species:',\n",
    "    disabled=False,\n",
    "    default=species[0]\n",
    ")\n",
    "\n",
    "# Selection widget for network and site\n",
    "network_site = widgets.SelectMultiple(\n",
    "    options=[],\n",
    "    description='Network and Site:',\n",
    "    disabled=False,\n",
    "    indent=True\n",
    ")\n",
    "\n",
    "# Plotting button\n",
    "plot_button = widgets.Button(description=\"Plot\")\n",
    "\n",
    "# Output widget\n",
    "output = widgets.Output()\n",
    "\n",
    "# Update network and site dropdown when species is changed\n",
    "species_dropdown.observe(lambda change:\n",
    "                        update_network_site(change, network_site),\n",
    "                        names=\"value\")\n",
    "\n",
    "# Plot to output when button is clicked\n",
    "plot_button.on_click(lambda x: plot_to_output(x, species_dropdown.value,\n",
    "                                              network_site.value,\n",
    "                                              output))\n",
    "\n",
    "display(species_dropdown)\n",
    "display(network_site)\n",
    "display(plot_button)\n",
    "display(output)"
   ]
  },
  {
   "cell_type": "code",
   "execution_count": null,
   "metadata": {},
   "outputs": [],
   "source": []
  }
 ],
 "metadata": {
  "kernelspec": {
   "display_name": "openghg_env",
   "language": "python",
   "name": "python3"
  },
  "language_info": {
   "codemirror_mode": {
    "name": "ipython",
    "version": 3
   },
   "file_extension": ".py",
   "mimetype": "text/x-python",
   "name": "python",
   "nbconvert_exporter": "python",
   "pygments_lexer": "ipython3",
   "version": "3.10.10"
  }
 },
 "nbformat": 4,
 "nbformat_minor": 4
}
