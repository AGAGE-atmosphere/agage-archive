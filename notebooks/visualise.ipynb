{
 "cells": [
  {
   "cell_type": "code",
   "execution_count": 1,
   "metadata": {},
   "outputs": [],
   "source": [
    "import ipywidgets as widgets\n",
    "from IPython.display import display\n",
    "\n",
    "from agage_archive import Paths\n",
    "from agage_archive.widgets import update_network_site, plot_to_output\n",
    "\n",
    "paths = Paths()"
   ]
  },
  {
   "cell_type": "markdown",
   "metadata": {},
   "source": [
    "# Find available files and plot\n",
    "\n",
    "Execute the following cell and then select options from the menus that appear."
   ]
  },
  {
   "cell_type": "code",
   "execution_count": 2,
   "metadata": {},
   "outputs": [
    {
     "data": {
      "application/vnd.jupyter.widget-view+json": {
       "model_id": "5299056ca2ee4483a42b8f6963750f58",
       "version_major": 2,
       "version_minor": 0
      },
      "text/plain": [
       "Dropdown(description='Species:', options=('c2f6', 'c3f8', 'c4f8', 'ccl4', 'cf4', 'cfc-11', 'cfc-113', 'cfc-114…"
      ]
     },
     "metadata": {},
     "output_type": "display_data"
    },
    {
     "data": {
      "application/vnd.jupyter.widget-view+json": {
       "model_id": "bc435b77f96b45f4bc5581bf258295ed",
       "version_major": 2,
       "version_minor": 0
      },
      "text/plain": [
       "SelectMultiple(description='Network and Site:', options=('CGO, AGAGE-GCMS-Medusa', 'GSN, AGAGE-GCMS-Medusa', '…"
      ]
     },
     "metadata": {},
     "output_type": "display_data"
    },
    {
     "data": {
      "application/vnd.jupyter.widget-view+json": {
       "model_id": "a086a3d76df74875ae40bed08ae45c4b",
       "version_major": 2,
       "version_minor": 0
      },
      "text/plain": [
       "Button(description='Plot', style=ButtonStyle())"
      ]
     },
     "metadata": {},
     "output_type": "display_data"
    },
    {
     "data": {
      "application/vnd.jupyter.widget-view+json": {
       "model_id": "6cf64a2fd72e4c33be51220b50a6b7a9",
       "version_major": 2,
       "version_minor": 0
      },
      "text/plain": [
       "Output()"
      ]
     },
     "metadata": {},
     "output_type": "display_data"
    }
   ],
   "source": [
    "# Species names from the output directory structure\n",
    "species = sorted([f.name for f in paths.output.iterdir() if f.is_dir()])\n",
    "\n",
    "# Create dropdown widget\n",
    "species_dropdown = widgets.Dropdown(\n",
    "    options=species,\n",
    "    description='Species:',\n",
    "    disabled=False,\n",
    "    default=species[0]\n",
    ")\n",
    "\n",
    "# Selection widget for network and site\n",
    "network_site = widgets.SelectMultiple(\n",
    "    options=update_network_site({\"new\": species[0]}, None),\n",
    "    description='Network and Site:',\n",
    "    disabled=False,\n",
    "    indent=True\n",
    ")\n",
    "\n",
    "# Plotting button\n",
    "plot_button = widgets.Button(description=\"Plot\")\n",
    "\n",
    "# Output widget\n",
    "output = widgets.Output()\n",
    "\n",
    "# Update network and site dropdown when species is changed\n",
    "species_dropdown.observe(lambda change:\n",
    "                        update_network_site(change, network_site),\n",
    "                        names=\"value\")\n",
    "\n",
    "# Plot to output when button is clicked\n",
    "plot_button.on_click(lambda x: plot_to_output(x, species_dropdown.value,\n",
    "                                              network_site.value,\n",
    "                                              output))\n",
    "\n",
    "display(species_dropdown)\n",
    "display(network_site)\n",
    "display(plot_button)\n",
    "display(output)"
   ]
  },
  {
   "cell_type": "code",
   "execution_count": null,
   "metadata": {},
   "outputs": [],
   "source": []
  }
 ],
 "metadata": {
  "kernelspec": {
   "display_name": "openghg_env",
   "language": "python",
   "name": "python3"
  },
  "language_info": {
   "codemirror_mode": {
    "name": "ipython",
    "version": 3
   },
   "file_extension": ".py",
   "mimetype": "text/x-python",
   "name": "python",
   "nbconvert_exporter": "python",
   "pygments_lexer": "ipython3",
   "version": "3.10.10"
  }
 },
 "nbformat": 4,
 "nbformat_minor": 4
}
