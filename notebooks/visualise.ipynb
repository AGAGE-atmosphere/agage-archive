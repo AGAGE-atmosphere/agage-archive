{
 "cells": [
  {
   "cell_type": "code",
   "execution_count": null,
   "metadata": {},
   "outputs": [],
   "source": [
    "import ipywidgets as widgets\n",
    "from IPython.display import display\n",
    "\n",
    "from agage_archive.config import Paths, data_file_list\n",
    "from agage_archive.widgets import update_instrument_site, plot_to_output, show_netcdf_info"
   ]
  },
  {
   "cell_type": "code",
   "execution_count": null,
   "metadata": {},
   "outputs": [],
   "source": [
    "network = \"agage\"\n",
    "paths = Paths(network, errors=\"ignore_inputs\")"
   ]
  },
  {
   "cell_type": "markdown",
   "metadata": {},
   "source": [
    "# Find available files and plot\n",
    "\n",
    "Execute the following cell and then select options from the menus that appear."
   ]
  },
  {
   "cell_type": "code",
   "execution_count": null,
   "metadata": {},
   "outputs": [],
   "source": [
    "# Species names from the output directory structure\n",
    "species = sorted(set([s.split(\"/\")[1] for s in data_file_list(network, paths.output_path, errors=\"ignore_inputs\")[2]]))\n",
    "frequencies = [\"event\", \"monthly\"]"
   ]
  },
  {
   "cell_type": "code",
   "execution_count": null,
   "metadata": {},
   "outputs": [],
   "source": [
    "# Create dropdown widget\n",
    "species_dropdown = widgets.Dropdown(\n",
    "    options=species,\n",
    "    description='Species:',\n",
    "    disabled=False,\n",
    "    default=species[0]\n",
    ")\n",
    "\n",
    "# Create file_type widget\n",
    "frequency_dropdown = widgets.Dropdown(\n",
    "    options=frequencies,\n",
    "    description='Frequency:',\n",
    "    disabled=False,\n",
    "    default=frequencies[0]\n",
    ")\n",
    "\n",
    "# Selection widget for network and site\n",
    "instrument_site = widgets.SelectMultiple(\n",
    "    options=update_instrument_site(species[0],\n",
    "                                frequencies[0],\n",
    "                                network, None),\n",
    "    description='Site, instrument:',\n",
    "    disabled=False,\n",
    "    indent=True\n",
    ")\n",
    "\n",
    "# Plotting button\n",
    "plot_button = widgets.Button(description=\"Plot\")\n",
    "\n",
    "# Output widget\n",
    "output = widgets.Output()\n",
    "output_netcdf = widgets.Output()\n",
    "\n",
    "# Text widget to explain what the asterisk means\n",
    "asterisk_text = widgets.HTML(value=\"<p>* Asterisk indicates individual, rather than combined file</p>\")\n",
    "\n",
    "# Update network and site dropdown when species is changed\n",
    "species_dropdown.observe(lambda change:\n",
    "                        update_instrument_site(change[\"new\"],\n",
    "                                            frequency_dropdown.value,\n",
    "                                            network, instrument_site),\n",
    "                        names=\"value\")\n",
    "\n",
    "frequency_dropdown.observe(lambda change:\n",
    "                        update_instrument_site(species_dropdown.value,\n",
    "                            change[\"new\"], network, instrument_site),\n",
    "                        names=\"value\")\n",
    "\n",
    "# Plot to output when button is clicked\n",
    "plot_button.on_click(lambda x: plot_to_output(x, network,\n",
    "                                              frequency_dropdown.value,\n",
    "                                              species_dropdown.value,\n",
    "                                              instrument_site.value,\n",
    "                                              output))\n",
    "plot_button.on_click(lambda x: show_netcdf_info(x, network,\n",
    "                                                frequency_dropdown.value,\n",
    "                                                species_dropdown.value,\n",
    "                                                instrument_site.value,\n",
    "                                                output_netcdf))                                         \n",
    "\n",
    "display(species_dropdown)\n",
    "display(frequency_dropdown)\n",
    "display(instrument_site)\n",
    "display(asterisk_text)\n",
    "display(plot_button)\n",
    "display(output)\n",
    "display(output_netcdf)"
   ]
  },
  {
   "cell_type": "code",
   "execution_count": null,
   "metadata": {},
   "outputs": [],
   "source": []
  }
 ],
 "metadata": {
  "kernelspec": {
   "display_name": "openghg_env",
   "language": "python",
   "name": "python3"
  },
  "language_info": {
   "codemirror_mode": {
    "name": "ipython",
    "version": 3
   },
   "file_extension": ".py",
   "mimetype": "text/x-python",
   "name": "python",
   "nbconvert_exporter": "python",
   "pygments_lexer": "ipython3",
   "version": "3.11.4"
  }
 },
 "nbformat": 4,
 "nbformat_minor": 4
}
